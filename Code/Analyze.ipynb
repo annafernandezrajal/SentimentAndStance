{
 "cells": [
  {
   "cell_type": "code",
   "execution_count": null,
   "metadata": {
    "collapsed": false,
    "pycharm": {
     "name": "#%%\n"
    }
   },
   "outputs": [],
   "source": [
    "#Imports\n",
    "import json\n",
    "import nltk\n",
    "import numpy as np\n",
    "from nltk.sentiment import SentimentIntensityAnalyzer\n",
    "from nltk.tokenize import word_tokenize\n",
    "import pandas as pd\n",
    "import seaborn as sns\n",
    "from transformers import AutoTokenizer, AutoModelForSequenceClassification\n",
    "import torch\n"
   ]
  },
  {
   "cell_type": "code",
   "execution_count": null,
   "metadata": {
    "collapsed": false,
    "pycharm": {
     "name": "#%%\n"
    }
   },
   "outputs": [],
   "source": [
    "#Load models Sentiment\n",
    "nltk.download('vader_lexicon')\n",
    "nltk.download('punkt')\n",
    "sentimentIntensityAnalyzer = SentimentIntensityAnalyzer()\n",
    "\n",
    "\n",
    "pretrained_LM_path = \"kornosk/bert-election2020-twitter-stance-biden-KE-MLM\"\n",
    "\n",
    "#Load models Stance\n",
    "tokenizer = AutoTokenizer.from_pretrained(pretrained_LM_path)\n",
    "stanceDetectionmodel = AutoModelForSequenceClassification.from_pretrained(pretrained_LM_path)"
   ]
  },
  {
   "cell_type": "code",
   "execution_count": null,
   "metadata": {
    "collapsed": false,
    "pycharm": {
     "name": "#%%\n"
    }
   },
   "outputs": [],
   "source": [
    "#Settings\n",
    "pd.set_option('display.width', 1000)"
   ]
  },
  {
   "cell_type": "code",
   "execution_count": null,
   "metadata": {
    "collapsed": false,
    "pycharm": {
     "name": "#%%\n"
    }
   },
   "outputs": [],
   "source": [
    "#Load data\n",
    "twitter_data = pd.read_csv('dataset/train.csv', encoding=\"unicode_escape\", lineterminator='\\r')\n",
    "\n",
    "twitter_data.head(10)"
   ]
  },
  {
   "cell_type": "code",
   "execution_count": null,
   "metadata": {
    "collapsed": false,
    "pycharm": {
     "name": "#%%\n"
    }
   },
   "outputs": [],
   "source": [
    "#Calculate Sentiment\n",
    "def calculateSentiment(text):\n",
    "    return sentimentIntensityAnalyzer.polarity_scores(text)['compound']\n",
    "\n",
    "twitter_data['sentimentVader'] = twitter_data['Tweet'].apply(calculateSentiment)\n",
    "display(twitter_data)"
   ]
  },
  {
   "cell_type": "code",
   "execution_count": null,
   "metadata": {
    "collapsed": false,
    "pycharm": {
     "name": "#%%\n"
    }
   },
   "outputs": [],
   "source": [
    "# Calculate Stance Detection\n",
    "\n",
    "id2label = {\n",
    "    0: \"AGAINST\",\n",
    "    1: \"FAVOR\",\n",
    "    2: \"NONE\"\n",
    "}\n",
    "\n",
    "def calculateStance(text):\n",
    "    inputs = tokenizer(text, return_tensors=\"pt\")\n",
    "    outputs = stanceDetectionmodel(**inputs)\n",
    "    print(inputs)\n",
    "    prediction = torch.softmax(outputs[0], dim=1)[0].tolist()\n",
    "    return id2label[np.argmax(prediction)]\n",
    "\n",
    "\n",
    "twitter_data['stancePrediction'] = twitter_data['Tweet'].apply(calculateStance)"
   ]
  },
  {
   "cell_type": "code",
   "execution_count": null,
   "metadata": {},
   "outputs": [],
   "source": [
    "display(twitter_data)"
   ]
  }
 ],
 "metadata": {
  "kernelspec": {
   "display_name": "Python 3.7.13 ('resenv')",
   "language": "python",
   "name": "python3"
  },
  "language_info": {
   "codemirror_mode": {
    "name": "ipython",
    "version": 3
   },
   "file_extension": ".py",
   "mimetype": "text/x-python",
   "name": "python",
   "nbconvert_exporter": "python",
   "pygments_lexer": "ipython3",
   "version": "3.7.13"
  },
  "vscode": {
   "interpreter": {
    "hash": "68f4ec7b59b457c007e211b5e7c07d128f2f7afb3b91327b5f5596f4d509fd6c"
   }
  }
 },
 "nbformat": 4,
 "nbformat_minor": 0
}
