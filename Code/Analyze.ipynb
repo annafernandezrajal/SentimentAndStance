{
 "cells": [
  {
   "cell_type": "code",
   "execution_count": 51,
   "outputs": [],
   "source": [
    "#Imports\n",
    "import json\n",
    "import nltk\n",
    "import numpy as np\n",
    "from nltk.sentiment import SentimentIntensityAnalyzer\n",
    "from nltk.tokenize import word_tokenize\n",
    "import pandas as pd\n",
    "import seaborn as sns"
   ],
   "metadata": {
    "collapsed": false,
    "pycharm": {
     "name": "#%%\n"
    }
   }
  },
  {
   "cell_type": "code",
   "execution_count": 52,
   "outputs": [
    {
     "name": "stderr",
     "output_type": "stream",
     "text": [
      "[nltk_data] Downloading package vader_lexicon to\n",
      "[nltk_data]     C:\\Users\\steem\\AppData\\Roaming\\nltk_data...\n",
      "[nltk_data]   Package vader_lexicon is already up-to-date!\n",
      "[nltk_data] Downloading package punkt to\n",
      "[nltk_data]     C:\\Users\\steem\\AppData\\Roaming\\nltk_data...\n",
      "[nltk_data]   Package punkt is already up-to-date!\n"
     ]
    }
   ],
   "source": [
    "#Load models\n",
    "nltk.download('vader_lexicon')\n",
    "nltk.download('punkt')\n",
    "sentimentIntensityAnalyzer = SentimentIntensityAnalyzer()"
   ],
   "metadata": {
    "collapsed": false,
    "pycharm": {
     "name": "#%%\n"
    }
   }
  },
  {
   "cell_type": "code",
   "execution_count": 53,
   "outputs": [],
   "source": [
    "#Settings\n",
    "pd.set_option('display.width', 1000)"
   ],
   "metadata": {
    "collapsed": false,
    "pycharm": {
     "name": "#%%\n"
    }
   }
  },
  {
   "cell_type": "code",
   "execution_count": 54,
   "outputs": [
    {
     "data": {
      "text/plain": "                                               Tweet           Target   Stance                                    Opinion Towards Sentiment\n0  @tedcruz And, #HandOverTheServer she wiped cle...  Hillary Clinton  AGAINST  1.  The tweet explicitly expresses opinion abo...       neg\n1  Hillary is our best choice if we truly want to...  Hillary Clinton    FAVOR  1.  The tweet explicitly expresses opinion abo...       pos\n2  @TheView I think our country is ready for a fe...  Hillary Clinton  AGAINST  1.  The tweet explicitly expresses opinion abo...       neg\n3  I just gave an unhealthy amount of my hard-ear...  Hillary Clinton  AGAINST  1.  The tweet explicitly expresses opinion abo...       neg\n4  @PortiaABoulger Thank you for adding me to you...  Hillary Clinton     NONE  3.  The tweet is not explicitly expressing opi...       pos\n5  Hillary can not win. Here's hoping the Dems of...  Hillary Clinton  AGAINST  1.  The tweet explicitly expresses opinion abo...       neg\n6  Respect FOR the law and respect BY the law Yes...  Hillary Clinton     NONE  2. The tweet does NOT expresses opinion about ...       pos\n7  I don't want to be appointed to an Ambassador ...  Hillary Clinton     NONE  2. The tweet does NOT expresses opinion about ...       neg\n8  #StopHillary2016 @HillaryClinton if there was ...  Hillary Clinton  AGAINST  1.  The tweet explicitly expresses opinion abo...       neg\n9  @HillaryClinton End lawless #ClintonFoundation...  Hillary Clinton  AGAINST  1.  The tweet explicitly expresses opinion abo...       neg",
      "text/html": "<div>\n<style scoped>\n    .dataframe tbody tr th:only-of-type {\n        vertical-align: middle;\n    }\n\n    .dataframe tbody tr th {\n        vertical-align: top;\n    }\n\n    .dataframe thead th {\n        text-align: right;\n    }\n</style>\n<table border=\"1\" class=\"dataframe\">\n  <thead>\n    <tr style=\"text-align: right;\">\n      <th></th>\n      <th>Tweet</th>\n      <th>Target</th>\n      <th>Stance</th>\n      <th>Opinion Towards</th>\n      <th>Sentiment</th>\n    </tr>\n  </thead>\n  <tbody>\n    <tr>\n      <th>0</th>\n      <td>@tedcruz And, #HandOverTheServer she wiped cle...</td>\n      <td>Hillary Clinton</td>\n      <td>AGAINST</td>\n      <td>1.  The tweet explicitly expresses opinion abo...</td>\n      <td>neg</td>\n    </tr>\n    <tr>\n      <th>1</th>\n      <td>Hillary is our best choice if we truly want to...</td>\n      <td>Hillary Clinton</td>\n      <td>FAVOR</td>\n      <td>1.  The tweet explicitly expresses opinion abo...</td>\n      <td>pos</td>\n    </tr>\n    <tr>\n      <th>2</th>\n      <td>@TheView I think our country is ready for a fe...</td>\n      <td>Hillary Clinton</td>\n      <td>AGAINST</td>\n      <td>1.  The tweet explicitly expresses opinion abo...</td>\n      <td>neg</td>\n    </tr>\n    <tr>\n      <th>3</th>\n      <td>I just gave an unhealthy amount of my hard-ear...</td>\n      <td>Hillary Clinton</td>\n      <td>AGAINST</td>\n      <td>1.  The tweet explicitly expresses opinion abo...</td>\n      <td>neg</td>\n    </tr>\n    <tr>\n      <th>4</th>\n      <td>@PortiaABoulger Thank you for adding me to you...</td>\n      <td>Hillary Clinton</td>\n      <td>NONE</td>\n      <td>3.  The tweet is not explicitly expressing opi...</td>\n      <td>pos</td>\n    </tr>\n    <tr>\n      <th>5</th>\n      <td>Hillary can not win. Here's hoping the Dems of...</td>\n      <td>Hillary Clinton</td>\n      <td>AGAINST</td>\n      <td>1.  The tweet explicitly expresses opinion abo...</td>\n      <td>neg</td>\n    </tr>\n    <tr>\n      <th>6</th>\n      <td>Respect FOR the law and respect BY the law Yes...</td>\n      <td>Hillary Clinton</td>\n      <td>NONE</td>\n      <td>2. The tweet does NOT expresses opinion about ...</td>\n      <td>pos</td>\n    </tr>\n    <tr>\n      <th>7</th>\n      <td>I don't want to be appointed to an Ambassador ...</td>\n      <td>Hillary Clinton</td>\n      <td>NONE</td>\n      <td>2. The tweet does NOT expresses opinion about ...</td>\n      <td>neg</td>\n    </tr>\n    <tr>\n      <th>8</th>\n      <td>#StopHillary2016 @HillaryClinton if there was ...</td>\n      <td>Hillary Clinton</td>\n      <td>AGAINST</td>\n      <td>1.  The tweet explicitly expresses opinion abo...</td>\n      <td>neg</td>\n    </tr>\n    <tr>\n      <th>9</th>\n      <td>@HillaryClinton End lawless #ClintonFoundation...</td>\n      <td>Hillary Clinton</td>\n      <td>AGAINST</td>\n      <td>1.  The tweet explicitly expresses opinion abo...</td>\n      <td>neg</td>\n    </tr>\n  </tbody>\n</table>\n</div>"
     },
     "execution_count": 54,
     "metadata": {},
     "output_type": "execute_result"
    }
   ],
   "source": [
    "#Load data\n",
    "twitter_data = pd.read_csv('dataset/train.csv', encoding=\"unicode_escape\", lineterminator='\\r')\n",
    "\n",
    "twitter_data.head(10)"
   ],
   "metadata": {
    "collapsed": false,
    "pycharm": {
     "name": "#%%\n"
    }
   }
  },
  {
   "cell_type": "code",
   "execution_count": 60,
   "outputs": [
    {
     "data": {
      "text/plain": "                                                  Tweet                    Target   Stance                                    Opinion Towards Sentiment  sentimentVader\n0     @tedcruz And, #HandOverTheServer she wiped cle...           Hillary Clinton  AGAINST  1.  The tweet explicitly expresses opinion abo...       neg          0.4019\n1     Hillary is our best choice if we truly want to...           Hillary Clinton    FAVOR  1.  The tweet explicitly expresses opinion abo...       pos          0.8126\n2     @TheView I think our country is ready for a fe...           Hillary Clinton  AGAINST  1.  The tweet explicitly expresses opinion abo...       neg          0.3612\n3     I just gave an unhealthy amount of my hard-ear...           Hillary Clinton  AGAINST  1.  The tweet explicitly expresses opinion abo...       neg         -0.5267\n4     @PortiaABoulger Thank you for adding me to you...           Hillary Clinton     NONE  3.  The tweet is not explicitly expressing opi...       pos          0.3612\n...                                                 ...                       ...      ...                                                ...       ...             ...\n2909  There's a law protecting unborn eagles, but no...  Legalization of Abortion  AGAINST  1.  The tweet explicitly expresses opinion abo...       neg          0.1139\n2910  I am 1 in 3... I have had an abortion #Abortio...  Legalization of Abortion  AGAINST  2. The tweet does NOT expresses opinion about ...     other          0.0000\n2911  How dare you say my sexual preference is a cho...  Legalization of Abortion  AGAINST  2. The tweet does NOT expresses opinion about ...       neg          0.0000\n2912  Equal rights for those 'born that way', no rig...  Legalization of Abortion  AGAINST  2. The tweet does NOT expresses opinion about ...       neg         -0.2960\n2913  #POTUS seals his legacy w/ 1/2 doz wins. The #...  Legalization of Abortion  AGAINST  2. The tweet does NOT expresses opinion about ...       neg          0.1739\n\n[2914 rows x 6 columns]",
      "text/html": "<div>\n<style scoped>\n    .dataframe tbody tr th:only-of-type {\n        vertical-align: middle;\n    }\n\n    .dataframe tbody tr th {\n        vertical-align: top;\n    }\n\n    .dataframe thead th {\n        text-align: right;\n    }\n</style>\n<table border=\"1\" class=\"dataframe\">\n  <thead>\n    <tr style=\"text-align: right;\">\n      <th></th>\n      <th>Tweet</th>\n      <th>Target</th>\n      <th>Stance</th>\n      <th>Opinion Towards</th>\n      <th>Sentiment</th>\n      <th>sentimentVader</th>\n    </tr>\n  </thead>\n  <tbody>\n    <tr>\n      <th>0</th>\n      <td>@tedcruz And, #HandOverTheServer she wiped cle...</td>\n      <td>Hillary Clinton</td>\n      <td>AGAINST</td>\n      <td>1.  The tweet explicitly expresses opinion abo...</td>\n      <td>neg</td>\n      <td>0.4019</td>\n    </tr>\n    <tr>\n      <th>1</th>\n      <td>Hillary is our best choice if we truly want to...</td>\n      <td>Hillary Clinton</td>\n      <td>FAVOR</td>\n      <td>1.  The tweet explicitly expresses opinion abo...</td>\n      <td>pos</td>\n      <td>0.8126</td>\n    </tr>\n    <tr>\n      <th>2</th>\n      <td>@TheView I think our country is ready for a fe...</td>\n      <td>Hillary Clinton</td>\n      <td>AGAINST</td>\n      <td>1.  The tweet explicitly expresses opinion abo...</td>\n      <td>neg</td>\n      <td>0.3612</td>\n    </tr>\n    <tr>\n      <th>3</th>\n      <td>I just gave an unhealthy amount of my hard-ear...</td>\n      <td>Hillary Clinton</td>\n      <td>AGAINST</td>\n      <td>1.  The tweet explicitly expresses opinion abo...</td>\n      <td>neg</td>\n      <td>-0.5267</td>\n    </tr>\n    <tr>\n      <th>4</th>\n      <td>@PortiaABoulger Thank you for adding me to you...</td>\n      <td>Hillary Clinton</td>\n      <td>NONE</td>\n      <td>3.  The tweet is not explicitly expressing opi...</td>\n      <td>pos</td>\n      <td>0.3612</td>\n    </tr>\n    <tr>\n      <th>...</th>\n      <td>...</td>\n      <td>...</td>\n      <td>...</td>\n      <td>...</td>\n      <td>...</td>\n      <td>...</td>\n    </tr>\n    <tr>\n      <th>2909</th>\n      <td>There's a law protecting unborn eagles, but no...</td>\n      <td>Legalization of Abortion</td>\n      <td>AGAINST</td>\n      <td>1.  The tweet explicitly expresses opinion abo...</td>\n      <td>neg</td>\n      <td>0.1139</td>\n    </tr>\n    <tr>\n      <th>2910</th>\n      <td>I am 1 in 3... I have had an abortion #Abortio...</td>\n      <td>Legalization of Abortion</td>\n      <td>AGAINST</td>\n      <td>2. The tweet does NOT expresses opinion about ...</td>\n      <td>other</td>\n      <td>0.0000</td>\n    </tr>\n    <tr>\n      <th>2911</th>\n      <td>How dare you say my sexual preference is a cho...</td>\n      <td>Legalization of Abortion</td>\n      <td>AGAINST</td>\n      <td>2. The tweet does NOT expresses opinion about ...</td>\n      <td>neg</td>\n      <td>0.0000</td>\n    </tr>\n    <tr>\n      <th>2912</th>\n      <td>Equal rights for those 'born that way', no rig...</td>\n      <td>Legalization of Abortion</td>\n      <td>AGAINST</td>\n      <td>2. The tweet does NOT expresses opinion about ...</td>\n      <td>neg</td>\n      <td>-0.2960</td>\n    </tr>\n    <tr>\n      <th>2913</th>\n      <td>#POTUS seals his legacy w/ 1/2 doz wins. The #...</td>\n      <td>Legalization of Abortion</td>\n      <td>AGAINST</td>\n      <td>2. The tweet does NOT expresses opinion about ...</td>\n      <td>neg</td>\n      <td>0.1739</td>\n    </tr>\n  </tbody>\n</table>\n<p>2914 rows × 6 columns</p>\n</div>"
     },
     "metadata": {},
     "output_type": "display_data"
    }
   ],
   "source": [
    "#Calculate Sentiment\n",
    "def calculateSentiment(text):\n",
    "    return sentimentIntensityAnalyzer.polarity_scores(text)['compound']\n",
    "\n",
    "twitter_data['sentimentVader'] = twitter_data['Tweet'].apply(calculateSentiment)\n",
    "display(twitter_data)"
   ],
   "metadata": {
    "collapsed": false,
    "pycharm": {
     "name": "#%%\n"
    }
   }
  },
  {
   "cell_type": "code",
   "execution_count": 55,
   "outputs": [],
   "source": [],
   "metadata": {
    "collapsed": false,
    "pycharm": {
     "name": "#%%\n"
    }
   }
  }
 ],
 "metadata": {
  "kernelspec": {
   "display_name": "Python 3",
   "language": "python",
   "name": "python3"
  },
  "language_info": {
   "codemirror_mode": {
    "name": "ipython",
    "version": 2
   },
   "file_extension": ".py",
   "mimetype": "text/x-python",
   "name": "python",
   "nbconvert_exporter": "python",
   "pygments_lexer": "ipython2",
   "version": "2.7.6"
  }
 },
 "nbformat": 4,
 "nbformat_minor": 0
}