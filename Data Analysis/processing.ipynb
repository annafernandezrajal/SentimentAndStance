{
 "cells": [
  {
   "cell_type": "code",
   "execution_count": 16,
   "metadata": {},
   "outputs": [],
   "source": [
    "import numpy as np\n",
    "import pandas as pd"
   ]
  },
  {
   "cell_type": "code",
   "execution_count": 17,
   "metadata": {},
   "outputs": [],
   "source": [
    "#Load data\n",
    "twitter_data = pd.read_csv('dataset/output_test_regression.csv')\n",
    "\n",
    "#get stance detection colum\n",
    "stance_detection = twitter_data['StanceSVM']\n",
    "# get max value of stance detection\n",
    "max_value = stance_detection.max()\n",
    "# get min value of stance detection\n",
    "min_value = stance_detection.min()\n",
    "\n",
    "# get sentiment column\n",
    "sentiment = twitter_data['sentimentVader']\n",
    "# get max value of sentiment\n",
    "max_value_sentiment = sentiment.max()\n",
    "# get min value of sentiment\n",
    "min_value_sentiment = sentiment.min()\n",
    "\n",
    "# get 5 thresholds between min and max value of stance detection\n",
    "thresholds_stance = np.linspace(min_value, max_value, 5)\n",
    "# get 5 thresholds between min and max value of sentiment\n",
    "thresholds_sentiment = np.linspace(min_value_sentiment, max_value_sentiment, 5)"
   ]
  },
  {
   "cell_type": "code",
   "execution_count": 18,
   "metadata": {},
   "outputs": [],
   "source": [
    "# assign different classes to stance detection based on thresholds\n",
    "twitter_data['StanceSVM'] = pd.cut(twitter_data['StanceSVM'], thresholds_stance, labels=['1', '2', '3', '4'])\n",
    "# assign different classes to sentiment based on thresholds\n",
    "twitter_data['sentimentVader'] = pd.cut(twitter_data['sentimentVader'], thresholds_sentiment, labels=['1', '2', '3', '4'])"
   ]
  },
  {
   "cell_type": "code",
   "execution_count": 19,
   "metadata": {},
   "outputs": [],
   "source": [
    "# save new pandas into csv\n",
    "twitter_data.to_csv('dataset/output_test_regression_classes.csv', index=False)"
   ]
  }
 ],
 "metadata": {
  "kernelspec": {
   "display_name": "Python 3.7.13 ('resenv')",
   "language": "python",
   "name": "python3"
  },
  "language_info": {
   "codemirror_mode": {
    "name": "ipython",
    "version": 3
   },
   "file_extension": ".py",
   "mimetype": "text/x-python",
   "name": "python",
   "nbconvert_exporter": "python",
   "pygments_lexer": "ipython3",
   "version": "3.7.13"
  },
  "orig_nbformat": 4,
  "vscode": {
   "interpreter": {
    "hash": "68f4ec7b59b457c007e211b5e7c07d128f2f7afb3b91327b5f5596f4d509fd6c"
   }
  }
 },
 "nbformat": 4,
 "nbformat_minor": 2
}
