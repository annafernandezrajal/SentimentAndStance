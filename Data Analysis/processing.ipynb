{
 "cells": [
  {
   "cell_type": "code",
   "execution_count": 1,
   "metadata": {},
   "outputs": [],
   "source": [
    "import numpy as np\n",
    "import pandas as pd"
   ]
  },
  {
   "cell_type": "code",
   "execution_count": 15,
   "metadata": {},
   "outputs": [],
   "source": [
    "#Load data\n",
    "twitter_data = pd.read_csv('dataset/output_test_regression.csv')\n",
    "\n",
    "#get stance detection colum\n",
    "stance_detection = twitter_data['StanceSVM']\n",
    "# get max value of stance detection\n",
    "max_value = stance_detection.max()\n",
    "# get min value of stance detection\n",
    "min_value = stance_detection.min()\n",
    "\n",
    "# get sentiment column\n",
    "sentiment = twitter_data['sentimentVader']\n",
    "# get max value of sentiment\n",
    "max_value_sentiment = sentiment.max()\n",
    "# get min value of sentiment\n",
    "min_value_sentiment = sentiment.min()\n",
    "\n",
    "# adjust values from 0 to 1\n",
    "twitter_data['StanceSVM'] = (twitter_data['StanceSVM'] - min_value) / (max_value - min_value)\n",
    "twitter_data['sentimentVader'] = (twitter_data['sentimentVader'] - min_value_sentiment) / (max_value_sentiment - min_value_sentiment)\n",
    "\n",
    "twitter_data['StanceSVM'] = pd.qcut(twitter_data['StanceSVM'], 6, labels=False)\n",
    "twitter_data['sentimentVader'] = pd.qcut(twitter_data['sentimentVader'], 6, labels=False)\n",
    "\n",
    "# get rows with label 2 and 3 to become 2\n",
    "twitter_data.loc[twitter_data['StanceSVM'] == 2, 'StanceSVM'] = 3\n",
    "twitter_data.loc[twitter_data['sentimentVader'] == 2, 'sentimentVader'] = 3\n"
   ]
  },
  {
   "cell_type": "code",
   "execution_count": 14,
   "metadata": {},
   "outputs": [],
   "source": [
    "# save new pandas into csv\n",
    "twitter_data.to_csv('dataset/output_test_regression_classes.csv', index=False)"
   ]
  }
 ],
 "metadata": {
  "kernelspec": {
   "display_name": "Python 3.7.13 ('resenv')",
   "language": "python",
   "name": "python3"
  },
  "language_info": {
   "codemirror_mode": {
    "name": "ipython",
    "version": 3
   },
   "file_extension": ".py",
   "mimetype": "text/x-python",
   "name": "python",
   "nbconvert_exporter": "python",
   "pygments_lexer": "ipython3",
   "version": "3.7.13"
  },
  "orig_nbformat": 4,
  "vscode": {
   "interpreter": {
    "hash": "68f4ec7b59b457c007e211b5e7c07d128f2f7afb3b91327b5f5596f4d509fd6c"
   }
  }
 },
 "nbformat": 4,
 "nbformat_minor": 2
}
